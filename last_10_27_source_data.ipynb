{
 "cells": [
  {
   "cell_type": "code",
   "execution_count": 1,
   "id": "b4057fce",
   "metadata": {
    "ExecuteTime": {
     "end_time": "2021-10-28T11:30:02.277481Z",
     "start_time": "2021-10-28T11:30:01.055994Z"
    }
   },
   "outputs": [],
   "source": [
    "import numpy as np\n",
    "np.random.seed(10)\n",
    "import matplotlib.pyplot as plt\n",
    "from sklearn.datasets import make_classification\n",
    "from sklearn.linear_model import LogisticRegression\n",
    "from sklearn.ensemble import RandomTreesEmbedding, RandomForestClassifier, GradientBoostingClassifier, GradientBoostingRegressor\n",
    "from sklearn.preprocessing import OneHotEncoder\n",
    "from sklearn.model_selection import train_test_split\n",
    "from sklearn.metrics import roc_curve\n",
    "from sklearn.pipeline import make_pipeline\n",
    "from lightgbm.sklearn import LGBMClassifier"
   ]
  },
  {
   "cell_type": "code",
   "execution_count": 2,
   "id": "ea1ce197",
   "metadata": {
    "ExecuteTime": {
     "end_time": "2021-10-28T11:30:06.055023Z",
     "start_time": "2021-10-28T11:30:02.278731Z"
    }
   },
   "outputs": [
    {
     "name": "stdout",
     "output_type": "stream",
     "text": [
      "['android_id', 'apptype', 'carrier', 'dev_height', 'dev_ppi', 'dev_width', 'label', 'lan', 'media_id', 'ntt', 'os', 'osv', 'package', 'sid', 'timestamp', 'version', 'fea_hash', 'location', 'fea1_hash', 'cus_type']\n",
      "android_id 362258\n",
      "apptype 89\n",
      "carrier 5\n",
      "dev_height 798\n",
      "dev_ppi 92\n",
      "dev_width 346\n",
      "label 2\n",
      "lan 21\n",
      "media_id 284\n",
      "ntt 8\n",
      "os 2\n",
      "osv 154\n",
      "package 1950\n",
      "sid 500000\n",
      "timestamp 500000\n",
      "version 22\n",
      "fea_hash 402980\n",
      "location 332\n",
      "fea1_hash 4959\n",
      "cus_type 58\n",
      "f073b_changxiang_v01_b1b8_20180915#########\n",
      "%E6%B1%9F%E7%81%B5OS+5.0#########\n"
     ]
    }
   ],
   "source": [
    "#!/usr/bin/env python\n",
    "# coding: utf-8\n",
    "\n",
    "# ### 使用NN进行预测\n",
    "# ### Score = ？\n",
    "\n",
    "# In[1]:\n",
    "# lambda函数，可以接受多个参数，返回一个表达式的值\n",
    "\n",
    "import pandas as pd\n",
    "import warnings\n",
    "warnings.filterwarnings('ignore')\n",
    "\n",
    "# 数据加载\n",
    "train = pd.read_csv('./train.csv')\n",
    "test = pd.read_csv('./test1.csv')\n",
    "test = test.iloc[:, 1:]\n",
    "train = train.iloc[:, 1:]\n",
    "train\n",
    "\n",
    "\n",
    "# ##### Object类型： lan, os, osv, version, fea_hash\n",
    "# ##### 有缺失值的字段： lan, osv\n",
    "\n",
    "# In[2]:\n",
    "\n",
    "\n",
    "# ['os', 'osv', 'lan', 'sid’]\n",
    "features = train.columns.tolist()\n",
    "#features.remove('label')\n",
    "print(features)\n",
    "\n",
    "\n",
    "# In[3]:\n",
    "\n",
    "\n",
    "for feature in features:\n",
    "    print(feature, train[feature].nunique())\n",
    "\n",
    "\n",
    "# In[4]:\n",
    "\n",
    "\n",
    "# 对osv进行数据清洗\n",
    "def osv_trans(x):\n",
    "    x = str(x).replace('Android_', '').replace('Android ', '').replace('W', '')\n",
    "    if str(x).find('.')>0:\n",
    "        temp_index1 = x.find('.')\n",
    "        if x.find(' ')>0:\n",
    "            temp_index2 = x.find(' ')\n",
    "        else:\n",
    "            temp_index2 = len(x)\n",
    "\n",
    "        if x.find('-')>0:\n",
    "            temp_index2 = x.find('-')\n",
    "            \n",
    "        result = x[0:temp_index1] + '.' + x[temp_index1+1:temp_index2].replace('.', '')\n",
    "        try:\n",
    "            return float(result)\n",
    "        except:\n",
    "            print(x+'#########')\n",
    "            return 0\n",
    "    try:\n",
    "        return float(x)\n",
    "    except:\n",
    "        print(x+'#########')\n",
    "        return 0\n",
    "#train['osv'] => LabelEncoder ?\n",
    "# 采用众数，进行缺失值的填充\n",
    "train['osv'].fillna('8.1.0', inplace=True)\n",
    "# 数据清洗\n",
    "train['osv'] = train['osv'].apply(osv_trans)\n",
    "\n",
    "\n",
    "# In[5]:\n",
    "\n",
    "\n",
    "#train['os'].value_counts()\n",
    "train['lan'].value_counts()\n",
    "#lan_map = {'zh-CN': 1, }\n",
    "train['lan'].value_counts().index\n",
    "lan_map = {'zh-CN': 1, 'zh_CN':2, 'Zh-CN': 3, 'zh-cn': 4, 'zh_CN_#Hans':5, 'zh': 6, 'ZH': 7, 'cn':8, 'CN':9, 'zh-HK': 10, 'tw': 11, 'TW': 12, 'zh-TW': 13,             'zh-MO':14, 'en':15, 'en-GB': 16, 'en-US': 17, 'ko': 18, 'ja': 19, 'it': 20, 'mi':21} \n",
    "train['lan'] = train['lan'].map(lan_map)\n",
    "\n",
    "\n",
    "# In[6]:\n",
    "\n",
    "\n",
    "# 对于有缺失的lan 设置为22\n",
    "train['lan'].fillna(22, inplace=True)\n",
    "\n",
    "\n",
    "\n",
    "# In[7]:\n",
    "\n",
    "\n",
    "remove_list = ['os', 'sid']\n",
    "col = features\n",
    "for i in remove_list:\n",
    "    col.remove(i)\n",
    "col\n",
    "\n",
    "\n",
    "# In[8]:\n",
    "\n",
    "\n",
    "#train['timestamp'].value_counts()\n",
    "#train['timestamp'] = pd.to_datetime(train['timestamp'])\n",
    "#train['timestamp']\n",
    "from datetime import datetime\n",
    "\n",
    "# lambda 是一句话函数，匿名函数\n",
    "train['timestamp'] = train['timestamp'].apply(lambda x: datetime.fromtimestamp(x/1000))\n",
    "#1559892728241.7212\n",
    "#1559871800477.1477\n",
    "#1625493942.538375\n",
    "#import time\n",
    "#time.time()\n",
    "\n",
    "\n",
    "# In[9]:\n",
    "\n",
    "\n",
    "def version_trans(x):\n",
    "    if x=='V3':\n",
    "        return 3\n",
    "    if x=='v1':\n",
    "        return 1\n",
    "    if x=='P_Final_6':\n",
    "        return 6\n",
    "    if x=='V6':\n",
    "        return 6\n",
    "    if x=='GA3':\n",
    "        return 3\n",
    "    if x=='GA2':\n",
    "        return 2\n",
    "    if x=='V2':\n",
    "        return 2\n",
    "    if x=='50':\n",
    "        return 5\n",
    "    return int(x)\n",
    "train['version'] = train['version'].apply(version_trans)\n",
    "test['version'] = test['version'].apply(version_trans)\n",
    "train['version'] = train['version'].astype('int')\n",
    "test['version'] = test['version'].astype('int')\n",
    "\n",
    "\n",
    "# In[10]:\n",
    "\n",
    "\n",
    "# 特征筛选\n",
    "features = train[col]\n",
    "# 构造fea_hash_len特征\n",
    "features['fea_hash_len'] = features['fea_hash'].map(lambda x: len(str(x)))\n",
    "features['fea1_hash_len'] = features['fea1_hash'].map(lambda x: len(str(x)))\n",
    "# Thinking：为什么将很大的，很长的fea_hash化为0？\n",
    "# 如果fea_hash很长，都归为0，否则为自己的本身\n",
    "features['fea_hash'] = features['fea_hash'].map(lambda x: 0 if len(str(x))>16 else int(x))\n",
    "features['fea1_hash'] = features['fea1_hash'].map(lambda x: 0 if len(str(x))>16 else int(x))\n",
    "features\n",
    "\n",
    "\n",
    "\n",
    "# In[11]:\n",
    "\n",
    "\n",
    "\"\"\"\n",
    "train_set = set()\n",
    "for x in train['sid'].value_counts().index.tolist():\n",
    "    train_set.add(x)\n",
    "#train_set.add(train['sid'].value_counts().index.tolist())\n",
    "train_set\n",
    "test_set = set()\n",
    "for x in test['sid'].value_counts().index.tolist():\n",
    "    test_set.add(x)\n",
    "# test_set.add(test['sid'].value_counts().index.tolist())\n",
    "# test['sid'].value_counts().index.tolist()\n",
    "train_set & test_set # 没有重复值\n",
    "\"\"\"\n",
    "\n",
    "\n",
    "# In[11]:\n",
    "\n",
    "\n",
    "# 对训练集的timestamp提取时间多尺度\n",
    "\n",
    "# 使用to_datetime进行日期类型转换\n",
    "# 创建时间戳索引\n",
    "temp = pd.DatetimeIndex(features['timestamp'])\n",
    "features['year'] = temp.year\n",
    "features['month'] = temp.month\n",
    "features['day'] = temp.day\n",
    "features['week_day'] = temp.weekday #星期几\n",
    "features['hour'] = temp.hour\n",
    "features['minute'] = temp.minute\n",
    "\n",
    "# 求时间的diff\n",
    "start_time = features['timestamp'].min()\n",
    "features['time_diff'] = features['timestamp'] - start_time\n",
    "features['time_diff'] = features['time_diff'].dt.days + features['time_diff'].dt.seconds/3600/24\n",
    "features[['timestamp', 'year', 'month', 'day', 'week_day', 'hour', 'minute', 'time_diff']]\n",
    "\n",
    "# 创建时间戳索引\n",
    "\n",
    "\n",
    "\n",
    "\n",
    "# In[12]:\n",
    "\n",
    "\n",
    "#test['version'].value_counts()\n",
    "#features['version'].value_counts()\n",
    "features['dev_height'].value_counts()\n",
    "features['dev_width'].value_counts()\n",
    "# 构造面积特征\n",
    "features['dev_area'] = features['dev_height'] * features['dev_width']\n",
    "\n",
    "\n",
    "\n",
    "# In[13]:\n",
    "\n",
    "\n",
    "\"\"\"\n",
    "Thinking：是否可以利用 dev_ppi 和 dev_area构造新特征\n",
    "features['dev_ppi'].value_counts()\n",
    "features['dev_area'].astype('float') / features['dev_ppi'].astype('float')\n",
    "\"\"\"\n",
    "#features['ntt'].value_counts()\n",
    "features['carrier'].value_counts()\n",
    "features['package'].value_counts()\n",
    "# version - osv APP版本与操作系统版本差\n",
    "features['osv'].value_counts()\n",
    "features['version_osv'] = features['osv'] - features['version']\n",
    "\n",
    "\n",
    "\n",
    "# In[14]:\n",
    "\n",
    "\n",
    "features = features.drop(['timestamp'], axis=1)"
   ]
  },
  {
   "cell_type": "code",
   "execution_count": 3,
   "id": "02b25821",
   "metadata": {
    "ExecuteTime": {
     "end_time": "2021-10-28T11:30:06.057982Z",
     "start_time": "2021-10-28T11:30:06.056328Z"
    }
   },
   "outputs": [],
   "source": [
    "data = features"
   ]
  },
  {
   "cell_type": "code",
   "execution_count": 4,
   "id": "834487ad",
   "metadata": {
    "ExecuteTime": {
     "end_time": "2021-10-28T11:30:06.110165Z",
     "start_time": "2021-10-28T11:30:06.059127Z"
    }
   },
   "outputs": [
    {
     "data": {
      "text/html": [
       "<div>\n",
       "<style scoped>\n",
       "    .dataframe tbody tr th:only-of-type {\n",
       "        vertical-align: middle;\n",
       "    }\n",
       "\n",
       "    .dataframe tbody tr th {\n",
       "        vertical-align: top;\n",
       "    }\n",
       "\n",
       "    .dataframe thead th {\n",
       "        text-align: right;\n",
       "    }\n",
       "</style>\n",
       "<table border=\"1\" class=\"dataframe\">\n",
       "  <thead>\n",
       "    <tr style=\"text-align: right;\">\n",
       "      <th></th>\n",
       "      <th>android_id</th>\n",
       "      <th>apptype</th>\n",
       "      <th>carrier</th>\n",
       "      <th>dev_height</th>\n",
       "      <th>dev_ppi</th>\n",
       "      <th>dev_width</th>\n",
       "      <th>label</th>\n",
       "      <th>lan</th>\n",
       "      <th>media_id</th>\n",
       "      <th>ntt</th>\n",
       "      <th>...</th>\n",
       "      <th>fea1_hash_len</th>\n",
       "      <th>year</th>\n",
       "      <th>month</th>\n",
       "      <th>day</th>\n",
       "      <th>week_day</th>\n",
       "      <th>hour</th>\n",
       "      <th>minute</th>\n",
       "      <th>time_diff</th>\n",
       "      <th>dev_area</th>\n",
       "      <th>version_osv</th>\n",
       "    </tr>\n",
       "  </thead>\n",
       "  <tbody>\n",
       "    <tr>\n",
       "      <th>0</th>\n",
       "      <td>316361</td>\n",
       "      <td>1199</td>\n",
       "      <td>46000.0</td>\n",
       "      <td>0.0</td>\n",
       "      <td>0.0</td>\n",
       "      <td>0.0</td>\n",
       "      <td>1</td>\n",
       "      <td>22.0</td>\n",
       "      <td>104</td>\n",
       "      <td>6.0</td>\n",
       "      <td>...</td>\n",
       "      <td>10</td>\n",
       "      <td>2019</td>\n",
       "      <td>6</td>\n",
       "      <td>7</td>\n",
       "      <td>4</td>\n",
       "      <td>15</td>\n",
       "      <td>32</td>\n",
       "      <td>4.647303</td>\n",
       "      <td>0.0</td>\n",
       "      <td>1.00</td>\n",
       "    </tr>\n",
       "    <tr>\n",
       "      <th>1</th>\n",
       "      <td>135939</td>\n",
       "      <td>893</td>\n",
       "      <td>0.0</td>\n",
       "      <td>0.0</td>\n",
       "      <td>0.0</td>\n",
       "      <td>0.0</td>\n",
       "      <td>1</td>\n",
       "      <td>22.0</td>\n",
       "      <td>19</td>\n",
       "      <td>6.0</td>\n",
       "      <td>...</td>\n",
       "      <td>10</td>\n",
       "      <td>2019</td>\n",
       "      <td>6</td>\n",
       "      <td>8</td>\n",
       "      <td>5</td>\n",
       "      <td>19</td>\n",
       "      <td>40</td>\n",
       "      <td>5.819664</td>\n",
       "      <td>0.0</td>\n",
       "      <td>4.10</td>\n",
       "    </tr>\n",
       "    <tr>\n",
       "      <th>2</th>\n",
       "      <td>399254</td>\n",
       "      <td>821</td>\n",
       "      <td>0.0</td>\n",
       "      <td>760.0</td>\n",
       "      <td>0.0</td>\n",
       "      <td>360.0</td>\n",
       "      <td>1</td>\n",
       "      <td>22.0</td>\n",
       "      <td>559</td>\n",
       "      <td>0.0</td>\n",
       "      <td>...</td>\n",
       "      <td>9</td>\n",
       "      <td>2019</td>\n",
       "      <td>6</td>\n",
       "      <td>6</td>\n",
       "      <td>3</td>\n",
       "      <td>23</td>\n",
       "      <td>58</td>\n",
       "      <td>3.998796</td>\n",
       "      <td>273600.0</td>\n",
       "      <td>8.10</td>\n",
       "    </tr>\n",
       "    <tr>\n",
       "      <th>3</th>\n",
       "      <td>68983</td>\n",
       "      <td>1004</td>\n",
       "      <td>46000.0</td>\n",
       "      <td>2214.0</td>\n",
       "      <td>0.0</td>\n",
       "      <td>1080.0</td>\n",
       "      <td>0</td>\n",
       "      <td>22.0</td>\n",
       "      <td>129</td>\n",
       "      <td>2.0</td>\n",
       "      <td>...</td>\n",
       "      <td>10</td>\n",
       "      <td>2019</td>\n",
       "      <td>6</td>\n",
       "      <td>9</td>\n",
       "      <td>6</td>\n",
       "      <td>8</td>\n",
       "      <td>59</td>\n",
       "      <td>6.374722</td>\n",
       "      <td>2391120.0</td>\n",
       "      <td>8.10</td>\n",
       "    </tr>\n",
       "    <tr>\n",
       "      <th>4</th>\n",
       "      <td>288999</td>\n",
       "      <td>1076</td>\n",
       "      <td>46000.0</td>\n",
       "      <td>2280.0</td>\n",
       "      <td>0.0</td>\n",
       "      <td>1080.0</td>\n",
       "      <td>1</td>\n",
       "      <td>1.0</td>\n",
       "      <td>64</td>\n",
       "      <td>2.0</td>\n",
       "      <td>...</td>\n",
       "      <td>10</td>\n",
       "      <td>2019</td>\n",
       "      <td>6</td>\n",
       "      <td>7</td>\n",
       "      <td>4</td>\n",
       "      <td>8</td>\n",
       "      <td>28</td>\n",
       "      <td>4.353009</td>\n",
       "      <td>2462400.0</td>\n",
       "      <td>3.00</td>\n",
       "    </tr>\n",
       "    <tr>\n",
       "      <th>...</th>\n",
       "      <td>...</td>\n",
       "      <td>...</td>\n",
       "      <td>...</td>\n",
       "      <td>...</td>\n",
       "      <td>...</td>\n",
       "      <td>...</td>\n",
       "      <td>...</td>\n",
       "      <td>...</td>\n",
       "      <td>...</td>\n",
       "      <td>...</td>\n",
       "      <td>...</td>\n",
       "      <td>...</td>\n",
       "      <td>...</td>\n",
       "      <td>...</td>\n",
       "      <td>...</td>\n",
       "      <td>...</td>\n",
       "      <td>...</td>\n",
       "      <td>...</td>\n",
       "      <td>...</td>\n",
       "      <td>...</td>\n",
       "      <td>...</td>\n",
       "    </tr>\n",
       "    <tr>\n",
       "      <th>499995</th>\n",
       "      <td>392477</td>\n",
       "      <td>1028</td>\n",
       "      <td>46000.0</td>\n",
       "      <td>1920.0</td>\n",
       "      <td>3.0</td>\n",
       "      <td>1080.0</td>\n",
       "      <td>1</td>\n",
       "      <td>1.0</td>\n",
       "      <td>144</td>\n",
       "      <td>6.0</td>\n",
       "      <td>...</td>\n",
       "      <td>9</td>\n",
       "      <td>2019</td>\n",
       "      <td>6</td>\n",
       "      <td>6</td>\n",
       "      <td>3</td>\n",
       "      <td>23</td>\n",
       "      <td>14</td>\n",
       "      <td>3.968252</td>\n",
       "      <td>2073600.0</td>\n",
       "      <td>0.12</td>\n",
       "    </tr>\n",
       "    <tr>\n",
       "      <th>499996</th>\n",
       "      <td>346134</td>\n",
       "      <td>1001</td>\n",
       "      <td>0.0</td>\n",
       "      <td>1424.0</td>\n",
       "      <td>0.0</td>\n",
       "      <td>720.0</td>\n",
       "      <td>0</td>\n",
       "      <td>22.0</td>\n",
       "      <td>29</td>\n",
       "      <td>2.0</td>\n",
       "      <td>...</td>\n",
       "      <td>10</td>\n",
       "      <td>2019</td>\n",
       "      <td>6</td>\n",
       "      <td>6</td>\n",
       "      <td>3</td>\n",
       "      <td>17</td>\n",
       "      <td>40</td>\n",
       "      <td>3.736713</td>\n",
       "      <td>1025280.0</td>\n",
       "      <td>5.10</td>\n",
       "    </tr>\n",
       "    <tr>\n",
       "      <th>499997</th>\n",
       "      <td>499635</td>\n",
       "      <td>761</td>\n",
       "      <td>46000.0</td>\n",
       "      <td>1280.0</td>\n",
       "      <td>0.0</td>\n",
       "      <td>720.0</td>\n",
       "      <td>0</td>\n",
       "      <td>22.0</td>\n",
       "      <td>54</td>\n",
       "      <td>6.0</td>\n",
       "      <td>...</td>\n",
       "      <td>10</td>\n",
       "      <td>2019</td>\n",
       "      <td>6</td>\n",
       "      <td>5</td>\n",
       "      <td>2</td>\n",
       "      <td>3</td>\n",
       "      <td>14</td>\n",
       "      <td>2.135370</td>\n",
       "      <td>921600.0</td>\n",
       "      <td>6.01</td>\n",
       "    </tr>\n",
       "    <tr>\n",
       "      <th>499998</th>\n",
       "      <td>239786</td>\n",
       "      <td>917</td>\n",
       "      <td>46001.0</td>\n",
       "      <td>960.0</td>\n",
       "      <td>0.0</td>\n",
       "      <td>540.0</td>\n",
       "      <td>0</td>\n",
       "      <td>2.0</td>\n",
       "      <td>109</td>\n",
       "      <td>2.0</td>\n",
       "      <td>...</td>\n",
       "      <td>10</td>\n",
       "      <td>2019</td>\n",
       "      <td>6</td>\n",
       "      <td>7</td>\n",
       "      <td>4</td>\n",
       "      <td>0</td>\n",
       "      <td>59</td>\n",
       "      <td>4.041273</td>\n",
       "      <td>518400.0</td>\n",
       "      <td>5.11</td>\n",
       "    </tr>\n",
       "    <tr>\n",
       "      <th>499999</th>\n",
       "      <td>270531</td>\n",
       "      <td>929</td>\n",
       "      <td>46000.0</td>\n",
       "      <td>2040.0</td>\n",
       "      <td>3.0</td>\n",
       "      <td>1080.0</td>\n",
       "      <td>1</td>\n",
       "      <td>1.0</td>\n",
       "      <td>59</td>\n",
       "      <td>2.0</td>\n",
       "      <td>...</td>\n",
       "      <td>10</td>\n",
       "      <td>2019</td>\n",
       "      <td>6</td>\n",
       "      <td>7</td>\n",
       "      <td>4</td>\n",
       "      <td>23</td>\n",
       "      <td>32</td>\n",
       "      <td>4.981076</td>\n",
       "      <td>2203200.0</td>\n",
       "      <td>3.10</td>\n",
       "    </tr>\n",
       "  </tbody>\n",
       "</table>\n",
       "<p>500000 rows × 28 columns</p>\n",
       "</div>"
      ],
      "text/plain": [
       "        android_id  apptype  carrier  dev_height  dev_ppi  dev_width  label  \\\n",
       "0           316361     1199  46000.0         0.0      0.0        0.0      1   \n",
       "1           135939      893      0.0         0.0      0.0        0.0      1   \n",
       "2           399254      821      0.0       760.0      0.0      360.0      1   \n",
       "3            68983     1004  46000.0      2214.0      0.0     1080.0      0   \n",
       "4           288999     1076  46000.0      2280.0      0.0     1080.0      1   \n",
       "...            ...      ...      ...         ...      ...        ...    ...   \n",
       "499995      392477     1028  46000.0      1920.0      3.0     1080.0      1   \n",
       "499996      346134     1001      0.0      1424.0      0.0      720.0      0   \n",
       "499997      499635      761  46000.0      1280.0      0.0      720.0      0   \n",
       "499998      239786      917  46001.0       960.0      0.0      540.0      0   \n",
       "499999      270531      929  46000.0      2040.0      3.0     1080.0      1   \n",
       "\n",
       "         lan  media_id  ntt  ...  fea1_hash_len  year  month  day  week_day  \\\n",
       "0       22.0       104  6.0  ...             10  2019      6    7         4   \n",
       "1       22.0        19  6.0  ...             10  2019      6    8         5   \n",
       "2       22.0       559  0.0  ...              9  2019      6    6         3   \n",
       "3       22.0       129  2.0  ...             10  2019      6    9         6   \n",
       "4        1.0        64  2.0  ...             10  2019      6    7         4   \n",
       "...      ...       ...  ...  ...            ...   ...    ...  ...       ...   \n",
       "499995   1.0       144  6.0  ...              9  2019      6    6         3   \n",
       "499996  22.0        29  2.0  ...             10  2019      6    6         3   \n",
       "499997  22.0        54  6.0  ...             10  2019      6    5         2   \n",
       "499998   2.0       109  2.0  ...             10  2019      6    7         4   \n",
       "499999   1.0        59  2.0  ...             10  2019      6    7         4   \n",
       "\n",
       "        hour  minute  time_diff   dev_area  version_osv  \n",
       "0         15      32   4.647303        0.0         1.00  \n",
       "1         19      40   5.819664        0.0         4.10  \n",
       "2         23      58   3.998796   273600.0         8.10  \n",
       "3          8      59   6.374722  2391120.0         8.10  \n",
       "4          8      28   4.353009  2462400.0         3.00  \n",
       "...      ...     ...        ...        ...          ...  \n",
       "499995    23      14   3.968252  2073600.0         0.12  \n",
       "499996    17      40   3.736713  1025280.0         5.10  \n",
       "499997     3      14   2.135370   921600.0         6.01  \n",
       "499998     0      59   4.041273   518400.0         5.11  \n",
       "499999    23      32   4.981076  2203200.0         3.10  \n",
       "\n",
       "[500000 rows x 28 columns]"
      ]
     },
     "execution_count": 4,
     "metadata": {},
     "output_type": "execute_result"
    }
   ],
   "source": [
    "data"
   ]
  },
  {
   "cell_type": "code",
   "execution_count": 5,
   "id": "484bd66d",
   "metadata": {
    "ExecuteTime": {
     "end_time": "2021-10-28T11:30:06.116114Z",
     "start_time": "2021-10-28T11:30:06.111025Z"
    }
   },
   "outputs": [
    {
     "data": {
      "text/plain": [
       "0    257760\n",
       "1    242240\n",
       "Name: label, dtype: int64"
      ]
     },
     "execution_count": 5,
     "metadata": {},
     "output_type": "execute_result"
    }
   ],
   "source": [
    "data['label'].value_counts()"
   ]
  },
  {
   "cell_type": "code",
   "execution_count": 6,
   "id": "691d1e6b",
   "metadata": {
    "ExecuteTime": {
     "end_time": "2021-10-28T11:30:06.199095Z",
     "start_time": "2021-10-28T11:30:06.117020Z"
    }
   },
   "outputs": [
    {
     "name": "stdout",
     "output_type": "stream",
     "text": [
      "CPU times: user 58.7 ms, sys: 14 ms, total: 72.8 ms\n",
      "Wall time: 72.2 ms\n"
     ]
    },
    {
     "data": {
      "text/plain": [
       "((400000, 27), (100000, 27), (400000,), (100000,))"
      ]
     },
     "execution_count": 6,
     "metadata": {},
     "output_type": "execute_result"
    }
   ],
   "source": [
    "%%time\n",
    "target = 'label'\n",
    "y = data[target]\n",
    "X = data.drop([target], 1)#,'到达延迟标签','Unnamed: 0.1'\n",
    "# 数据均衡--过采样\n",
    "#数据平衡\n",
    "# from imblearn.over_sampling import SMOTE\n",
    "# smo = SMOTE(random_state=42)\n",
    "# X0, y0 = smo.fit_resample(X, y)\n",
    "#数据集分割\n",
    "X_train, X_test, y_train, y_test = train_test_split(X, y, test_size=0.2, random_state=42)#42，\n",
    "X_train.shape, X_test.shape, y_train.shape, y_test.shape "
   ]
  },
  {
   "cell_type": "code",
   "execution_count": 7,
   "id": "f85d56c6",
   "metadata": {
    "ExecuteTime": {
     "end_time": "2021-10-28T11:30:06.248851Z",
     "start_time": "2021-10-28T11:30:06.200173Z"
    }
   },
   "outputs": [],
   "source": [
    "import os\n",
    "import numpy as np\n",
    "import pandas as pd\n",
    "import datetime,time\n",
    "import seaborn as sns\n",
    "\n",
    "import matplotlib.pyplot as plt\n",
    "plt.rcParams['font.sans-serif']=['SimHei'] #用来正常显示中文标签\n",
    "plt.rcParams['axes.unicode_minus']=False #用来正常显示负号\n",
    "plt.rcParams['font.family'] = ['sans-serif']\n",
    "\n",
    "import warnings\n",
    "warnings.filterwarnings(\"ignore\")\n",
    "\n",
    "#\n",
    "#os.chdir('//Users/jinbaichuan/Desktop/毕设代码/航班延误预测/DATA/新数据/')\n",
    "\n",
    "# 导入必备的工具包\n",
    "import lightgbm as lgb\n",
    "from sklearn import datasets\n",
    "from sklearn.model_selection import train_test_split\n",
    "import numpy as np\n",
    "np.random.seed(10)\n",
    "import matplotlib.pyplot as plt\n",
    "from sklearn.datasets import make_classification\n",
    "from sklearn.linear_model import LogisticRegression\n",
    "from sklearn.ensemble import RandomTreesEmbedding, RandomForestClassifier, GradientBoostingClassifier, GradientBoostingRegressor\n",
    "from sklearn.preprocessing import OneHotEncoder\n",
    "from sklearn.model_selection import train_test_split\n",
    "from sklearn.metrics import roc_curve\n",
    "from sklearn.metrics import accuracy_score\n",
    "from sklearn.metrics import roc_auc_score\n",
    "from sklearn import metrics\n",
    "from sklearn.ensemble import GradientBoostingClassifier\n",
    "import joblib\n",
    "import os\n",
    "os.environ[\"KMP_DUPLICATE_LIB_OK\"]=\"TRUE\""
   ]
  },
  {
   "cell_type": "markdown",
   "id": "122e9126",
   "metadata": {},
   "source": [
    "## LightGBM"
   ]
  },
  {
   "cell_type": "code",
   "execution_count": 8,
   "id": "97d025b9",
   "metadata": {
    "ExecuteTime": {
     "end_time": "2021-10-28T11:30:32.663322Z",
     "start_time": "2021-10-28T11:30:06.250924Z"
    }
   },
   "outputs": [],
   "source": [
    "# %%time\n",
    "# # 开始训练\n",
    "# print(\"Start training.....\")\n",
    "# gbm = lgb.LGBMClassifier(boosting_type='gbdt', \n",
    "#                               objective='binary',\n",
    "# #                               feature_fraction=0.9,\n",
    "# #                               bagging_fraction=0.6,\n",
    "#                               num_leaves=31,\n",
    "#                               max_depth=-1,\n",
    "#                               learning_rate=0.05,\n",
    "#                               n_estimators=4800,#2000\n",
    "#                               min_child_samples=36,\n",
    "#                               n_jobs=-1)\n",
    "# gbm.fit(X_train,y_train,eval_set=[(X_test, y_test)], eval_metric=\"l1\", early_stopping_rounds=100)"
   ]
  },
  {
   "cell_type": "code",
   "execution_count": 10,
   "id": "97c5e4c7",
   "metadata": {},
   "outputs": [],
   "source": [
    "# plt.figure(figsize=(3,1))\n",
    "# lgb.plot_importance(gbm, max_num_features=30)\n",
    "# # plt.title(\"Feature importances\")\n",
    "# plt.tight_layout()\n",
    "# plt.savefig('feature.jpg', dpi=200)\n",
    "# plt.show()"
   ]
  },
  {
   "cell_type": "code",
   "execution_count": 12,
   "id": "ddba2fce",
   "metadata": {
    "ExecuteTime": {
     "end_time": "2021-10-28T11:30:36.704098Z",
     "start_time": "2021-10-28T11:30:32.665973Z"
    }
   },
   "outputs": [],
   "source": [
    "# gbm_pred = gbm.predict(X_test)\n",
    "# gbm_preprob = gbm.predict_proba(X_test)[:,1]\n",
    "# print(\"Accuracy : %.4g\" % accuracy_score(y_test,gbm_pred))\n",
    "# print(\"AUC : %.4g\" % roc_auc_score(y_test,gbm_preprob))\n",
    "# joblib.dump(gbm,'./lightgbm.pkl')\n",
    "# fpr_lightgbm_lm, tpr_lightgbm_lm, _ = roc_curve(y_test, gbm_preprob)"
   ]
  },
  {
   "cell_type": "markdown",
   "id": "f8f92542",
   "metadata": {},
   "source": [
    "## 逻辑回归"
   ]
  },
  {
   "cell_type": "code",
   "execution_count": 13,
   "id": "ec8007d5",
   "metadata": {
    "ExecuteTime": {
     "end_time": "2021-10-28T11:30:37.780235Z",
     "start_time": "2021-10-28T11:30:36.705209Z"
    }
   },
   "outputs": [
    {
     "name": "stdout",
     "output_type": "stream",
     "text": [
      "Accuracy : 0.5517\n",
      "AUC : 0.6099\n",
      "CPU times: user 6.64 s, sys: 2.17 s, total: 8.81 s\n",
      "Wall time: 2.82 s\n"
     ]
    }
   ],
   "source": [
    "%%time\n",
    "####逻辑回归\n",
    "log = LogisticRegression(solver='lbfgs',max_iter=1000) \n",
    "log.fit(X_train,y_train)  # fitting the data\n",
    "y_pred_test1 = log.predict_proba(X_test)[:,1]\n",
    "y_pred1 = log.predict(X_test)\n",
    "print(\"Accuracy : %.4g\" % accuracy_score(y_test,y_pred1))\n",
    "print(\"AUC : %.4g\" % roc_auc_score(y_test,y_pred_test1))\n",
    "joblib.dump(log,'./lr.pkl')\n",
    "fpr_logistic_lm, tpr_logistic_lm, _ = roc_curve(y_test, y_pred_test1)"
   ]
  },
  {
   "cell_type": "markdown",
   "id": "71e02509",
   "metadata": {},
   "source": [
    "## LightGBM+LR"
   ]
  },
  {
   "cell_type": "code",
   "execution_count": 15,
   "id": "50cb598a",
   "metadata": {
    "ExecuteTime": {
     "end_time": "2021-10-28T11:31:13.598861Z",
     "start_time": "2021-10-28T11:30:37.781209Z"
    }
   },
   "outputs": [],
   "source": [
    "# # 得到OneHot编码\n",
    "# from sklearn.preprocessing import OneHotEncoder\n",
    "# lgb_enc = OneHotEncoder(categories='auto')\n",
    "# lgb_enc.fit(gbm.predict(X_train,pred_leaf=True))"
   ]
  },
  {
   "cell_type": "code",
   "execution_count": 17,
   "id": "f2afc77f",
   "metadata": {},
   "outputs": [],
   "source": [
    "# print(lgb_enc.transform(gbm.predict(X_train,pred_leaf=True)))"
   ]
  },
  {
   "cell_type": "code",
   "execution_count": 19,
   "id": "2a142446",
   "metadata": {
    "ExecuteTime": {
     "end_time": "2021-10-28T17:36:09.007626Z",
     "start_time": "2021-10-28T11:31:13.600321Z"
    }
   },
   "outputs": [],
   "source": [
    "# %%time\n",
    "# lgb_lm1 = LogisticRegression(solver='lbfgs', max_iter=1000)\n",
    "# lgb_lm1.fit(lgb_enc.transform(gbm.predict(X_train,pred_leaf=True)), y_train) #lightGBM+LR\n",
    "# # 使用LR进行预测\n",
    "# y_pred_lgb_lm = lgb_lm1.predict_proba(lgb_enc.transform(gbm.predict(X_test,pred_leaf=True)))[:, 1]\n",
    "# y_pred1 = lgb_lm1.predict(lgb_enc.transform(gbm.predict(X_test,pred_leaf=True)))\n",
    "# print(\"Accuracy : %.4g\" % accuracy_score(y_test,y_pred1))\n",
    "# print(\"AUC : %.4g\" % roc_auc_score(y_test,y_pred_lgb_lm))\n",
    "# ##### 画图使用\n",
    "# joblib.dump(lgb_lm1,'./lightgbm_lr.pkl')\n",
    "# fpr_lightgbm_lr_lm, tpr_lightgbm_lr_lm, _ = roc_curve(y_test, y_pred_lgb_lm)"
   ]
  },
  {
   "cell_type": "markdown",
   "id": "41298f3b",
   "metadata": {},
   "source": [
    "## xgboost"
   ]
  },
  {
   "cell_type": "code",
   "execution_count": 20,
   "id": "050f9555",
   "metadata": {
    "ExecuteTime": {
     "end_time": "2021-10-28T17:36:53.349783Z",
     "start_time": "2021-10-28T17:36:09.009263Z"
    }
   },
   "outputs": [
    {
     "name": "stdout",
     "output_type": "stream",
     "text": [
      "[0]\tvalidation_0-logloss:0.63462\n",
      "[1]\tvalidation_0-logloss:0.58478\n",
      "[2]\tvalidation_0-logloss:0.54410\n",
      "[3]\tvalidation_0-logloss:0.50910\n",
      "[4]\tvalidation_0-logloss:0.48045\n",
      "[5]\tvalidation_0-logloss:0.45495\n",
      "[6]\tvalidation_0-logloss:0.43489\n",
      "[7]\tvalidation_0-logloss:0.41820\n",
      "[8]\tvalidation_0-logloss:0.40184\n",
      "[9]\tvalidation_0-logloss:0.38951\n",
      "[10]\tvalidation_0-logloss:0.37668\n",
      "[11]\tvalidation_0-logloss:0.36565\n",
      "[12]\tvalidation_0-logloss:0.35631\n",
      "[13]\tvalidation_0-logloss:0.34864\n",
      "[14]\tvalidation_0-logloss:0.34125\n",
      "[15]\tvalidation_0-logloss:0.33473\n",
      "[16]\tvalidation_0-logloss:0.32899\n",
      "[17]\tvalidation_0-logloss:0.32465\n",
      "[18]\tvalidation_0-logloss:0.32044\n",
      "[19]\tvalidation_0-logloss:0.31648\n",
      "[20]\tvalidation_0-logloss:0.31321\n",
      "[21]\tvalidation_0-logloss:0.31034\n",
      "[22]\tvalidation_0-logloss:0.30786\n",
      "[23]\tvalidation_0-logloss:0.30574\n",
      "[24]\tvalidation_0-logloss:0.30390\n",
      "[25]\tvalidation_0-logloss:0.30225\n",
      "[26]\tvalidation_0-logloss:0.30088\n",
      "[27]\tvalidation_0-logloss:0.29959\n",
      "[28]\tvalidation_0-logloss:0.29824\n",
      "[29]\tvalidation_0-logloss:0.29724\n",
      "[30]\tvalidation_0-logloss:0.29648\n",
      "[31]\tvalidation_0-logloss:0.29594\n",
      "[32]\tvalidation_0-logloss:0.29503\n",
      "[33]\tvalidation_0-logloss:0.29452\n",
      "[34]\tvalidation_0-logloss:0.29401\n",
      "[35]\tvalidation_0-logloss:0.29332\n",
      "[36]\tvalidation_0-logloss:0.29292\n",
      "[37]\tvalidation_0-logloss:0.29243\n",
      "[38]\tvalidation_0-logloss:0.29229\n",
      "[39]\tvalidation_0-logloss:0.29206\n",
      "[40]\tvalidation_0-logloss:0.29176\n",
      "[41]\tvalidation_0-logloss:0.29156\n",
      "[42]\tvalidation_0-logloss:0.29147\n",
      "[43]\tvalidation_0-logloss:0.29126\n",
      "[44]\tvalidation_0-logloss:0.29101\n",
      "[45]\tvalidation_0-logloss:0.29088\n",
      "[46]\tvalidation_0-logloss:0.29080\n",
      "[47]\tvalidation_0-logloss:0.29070\n",
      "[48]\tvalidation_0-logloss:0.29051\n",
      "[49]\tvalidation_0-logloss:0.29044\n",
      "[50]\tvalidation_0-logloss:0.29036\n",
      "[51]\tvalidation_0-logloss:0.29030\n",
      "[52]\tvalidation_0-logloss:0.29018\n",
      "[53]\tvalidation_0-logloss:0.29011\n",
      "[54]\tvalidation_0-logloss:0.29012\n",
      "[55]\tvalidation_0-logloss:0.29014\n",
      "[56]\tvalidation_0-logloss:0.29005\n",
      "[57]\tvalidation_0-logloss:0.29002\n",
      "[58]\tvalidation_0-logloss:0.28997\n",
      "[59]\tvalidation_0-logloss:0.28991\n",
      "[60]\tvalidation_0-logloss:0.28989\n",
      "[61]\tvalidation_0-logloss:0.28985\n",
      "[62]\tvalidation_0-logloss:0.28980\n",
      "[63]\tvalidation_0-logloss:0.28976\n",
      "[64]\tvalidation_0-logloss:0.28971\n",
      "[65]\tvalidation_0-logloss:0.28971\n",
      "[66]\tvalidation_0-logloss:0.28965\n",
      "[67]\tvalidation_0-logloss:0.28965\n",
      "[68]\tvalidation_0-logloss:0.28964\n",
      "[69]\tvalidation_0-logloss:0.28963\n",
      "[70]\tvalidation_0-logloss:0.28963\n",
      "[71]\tvalidation_0-logloss:0.28951\n",
      "[72]\tvalidation_0-logloss:0.28943\n",
      "[73]\tvalidation_0-logloss:0.28941\n",
      "[74]\tvalidation_0-logloss:0.28941\n",
      "[75]\tvalidation_0-logloss:0.28942\n",
      "[76]\tvalidation_0-logloss:0.28942\n",
      "[77]\tvalidation_0-logloss:0.28941\n",
      "[78]\tvalidation_0-logloss:0.28934\n",
      "[79]\tvalidation_0-logloss:0.28929\n",
      "[80]\tvalidation_0-logloss:0.28930\n",
      "[81]\tvalidation_0-logloss:0.28932\n",
      "[82]\tvalidation_0-logloss:0.28933\n",
      "[83]\tvalidation_0-logloss:0.28934\n",
      "[84]\tvalidation_0-logloss:0.28929\n",
      "[85]\tvalidation_0-logloss:0.28929\n",
      "[86]\tvalidation_0-logloss:0.28928\n",
      "[87]\tvalidation_0-logloss:0.28929\n",
      "[88]\tvalidation_0-logloss:0.28929\n",
      "[89]\tvalidation_0-logloss:0.28927\n",
      "[90]\tvalidation_0-logloss:0.28928\n",
      "[91]\tvalidation_0-logloss:0.28928\n",
      "[92]\tvalidation_0-logloss:0.28924\n",
      "[93]\tvalidation_0-logloss:0.28925\n",
      "[94]\tvalidation_0-logloss:0.28925\n",
      "[95]\tvalidation_0-logloss:0.28923\n",
      "[96]\tvalidation_0-logloss:0.28922\n",
      "[97]\tvalidation_0-logloss:0.28921\n",
      "[98]\tvalidation_0-logloss:0.28922\n",
      "[99]\tvalidation_0-logloss:0.28921\n",
      "[100]\tvalidation_0-logloss:0.28920\n",
      "[101]\tvalidation_0-logloss:0.28921\n",
      "[102]\tvalidation_0-logloss:0.28928\n",
      "[103]\tvalidation_0-logloss:0.28935\n",
      "[104]\tvalidation_0-logloss:0.28926\n",
      "[105]\tvalidation_0-logloss:0.28926\n",
      "[106]\tvalidation_0-logloss:0.28926\n",
      "[107]\tvalidation_0-logloss:0.28928\n",
      "[108]\tvalidation_0-logloss:0.28928\n",
      "[109]\tvalidation_0-logloss:0.28925\n",
      "[110]\tvalidation_0-logloss:0.28922\n",
      "[111]\tvalidation_0-logloss:0.28921\n",
      "[112]\tvalidation_0-logloss:0.28918\n",
      "[113]\tvalidation_0-logloss:0.28919\n",
      "[114]\tvalidation_0-logloss:0.28915\n",
      "[115]\tvalidation_0-logloss:0.28917\n",
      "[116]\tvalidation_0-logloss:0.28916\n",
      "[117]\tvalidation_0-logloss:0.28915\n",
      "[118]\tvalidation_0-logloss:0.28919\n",
      "[119]\tvalidation_0-logloss:0.28919\n",
      "[120]\tvalidation_0-logloss:0.28916\n",
      "[121]\tvalidation_0-logloss:0.28915\n",
      "[122]\tvalidation_0-logloss:0.28915\n",
      "[123]\tvalidation_0-logloss:0.28915\n",
      "[124]\tvalidation_0-logloss:0.28917\n",
      "[125]\tvalidation_0-logloss:0.28918\n",
      "[126]\tvalidation_0-logloss:0.28918\n",
      "[127]\tvalidation_0-logloss:0.28921\n",
      "[128]\tvalidation_0-logloss:0.28924\n",
      "[129]\tvalidation_0-logloss:0.28924\n",
      "[130]\tvalidation_0-logloss:0.28928\n",
      "[131]\tvalidation_0-logloss:0.28931\n",
      "[132]\tvalidation_0-logloss:0.28932\n",
      "[133]\tvalidation_0-logloss:0.28931\n",
      "[134]\tvalidation_0-logloss:0.28928\n",
      "[135]\tvalidation_0-logloss:0.28927\n",
      "[136]\tvalidation_0-logloss:0.28927\n",
      "[137]\tvalidation_0-logloss:0.28927\n",
      "[138]\tvalidation_0-logloss:0.28927\n",
      "[139]\tvalidation_0-logloss:0.28926\n",
      "[140]\tvalidation_0-logloss:0.28927\n",
      "[141]\tvalidation_0-logloss:0.28927\n",
      "[142]\tvalidation_0-logloss:0.28928\n",
      "[143]\tvalidation_0-logloss:0.28927\n",
      "[144]\tvalidation_0-logloss:0.28927\n",
      "CPU times: user 2min 48s, sys: 4.5 s, total: 2min 52s\n",
      "Wall time: 45.7 s\n"
     ]
    },
    {
     "data": {
      "text/plain": [
       "XGBClassifier(base_score=0.5, booster='gbtree', colsample_bylevel=1,\n",
       "              colsample_bynode=1, colsample_bytree=0.6, gamma=0, gpu_id=-1,\n",
       "              importance_type='gain', interaction_constraints='',\n",
       "              learning_rate=0.1, max_delta_step=0, max_depth=12,\n",
       "              min_child_weight=1, missing=nan, monotone_constraints='()',\n",
       "              n_estimators=145, n_jobs=-1, nthread=4, num_parallel_tree=1,\n",
       "              random_state=42, reg_alpha=0, reg_lambda=1, scale_pos_weight=1,\n",
       "              seed=42, subsample=1, tree_method='exact', validate_parameters=1,\n",
       "              verbosity=None)"
      ]
     },
     "execution_count": 20,
     "metadata": {},
     "output_type": "execute_result"
    }
   ],
   "source": [
    "%%time\n",
    "from xgboost import XGBClassifier\n",
    "xgb = XGBClassifier(max_depth=12,\n",
    "                    learning_rate=0.1, \n",
    "                    n_estimators=145, \n",
    "                    objective=\"binary:logistic\", \n",
    "                    n_jobs=-1, \n",
    "                    nthread=4, \n",
    "                    min_child_weight=1,\n",
    "                    subsample=1,\n",
    "                    colsample_bytree=0.6,\n",
    "                    seed=42)\n",
    "xgb.fit(X_train, y_train, eval_metric=\"logloss\", eval_set=[(X_test, y_test)], early_stopping_rounds=100)"
   ]
  },
  {
   "cell_type": "code",
   "execution_count": 21,
   "id": "ae3261ec",
   "metadata": {
    "ExecuteTime": {
     "end_time": "2021-10-28T17:36:54.229879Z",
     "start_time": "2021-10-28T17:36:53.350701Z"
    }
   },
   "outputs": [
    {
     "name": "stdout",
     "output_type": "stream",
     "text": [
      "Accuracy : 0.8909\n",
      "AUC : 0.9442\n"
     ]
    }
   ],
   "source": [
    "xgb_pred = xgb.predict(X_test)\n",
    "xgb_preprob = xgb.predict_proba(X_test)[:,1]\n",
    "print(\"Accuracy : %.4g\" % accuracy_score(y_test,xgb_pred))\n",
    "print(\"AUC : %.4g\" % roc_auc_score(y_test,xgb_preprob))\n",
    "## 绘图使用\n",
    "joblib.dump(xgb,'./xgboost.pkl')\n",
    "fpr_xgb_lm, tpr_xgb_lm, _ = roc_curve(y_test, xgb_preprob)"
   ]
  },
  {
   "cell_type": "markdown",
   "id": "d9bf2691",
   "metadata": {},
   "source": [
    "## xgb+LR"
   ]
  },
  {
   "cell_type": "code",
   "execution_count": 22,
   "id": "6376d34d",
   "metadata": {
    "ExecuteTime": {
     "end_time": "2021-10-28T17:38:55.058685Z",
     "start_time": "2021-10-28T17:36:54.230804Z"
    }
   },
   "outputs": [
    {
     "name": "stdout",
     "output_type": "stream",
     "text": [
      "CPU times: user 4min 44s, sys: 3min 12s, total: 7min 57s\n",
      "Wall time: 2min 18s\n"
     ]
    },
    {
     "data": {
      "text/plain": [
       "LogisticRegression(max_iter=1000)"
      ]
     },
     "execution_count": 22,
     "metadata": {},
     "output_type": "execute_result"
    }
   ],
   "source": [
    "%%time\n",
    "# 得到OneHot编码\n",
    "grd_enc = OneHotEncoder(categories='auto')\n",
    "grd_enc.fit(xgb.apply(X_train))\n",
    "# 使用OneHot编码作为特征，训练LR\n",
    "grd_lm_xgb = LogisticRegression(solver='lbfgs', max_iter=1000)\n",
    "grd_lm_xgb.fit(grd_enc.transform(xgb.apply(X_train)), y_train)"
   ]
  },
  {
   "cell_type": "code",
   "execution_count": 23,
   "id": "d07e7391",
   "metadata": {},
   "outputs": [
    {
     "name": "stdout",
     "output_type": "stream",
     "text": [
      "Accuracy : 0.8737\n",
      "AUC : 0.9279\n"
     ]
    }
   ],
   "source": [
    "# 使用LR进行预测\n",
    "y_pred_xgb_lm = grd_lm_xgb.predict_proba(grd_enc.transform(xgb.apply(X_test)))[:, 1]\n",
    "y_pred_xgb = grd_lm_xgb.predict(grd_enc.transform(xgb.apply(X_test)))\n",
    "print(\"Accuracy : %.4g\" % accuracy_score(y_test,y_pred_xgb))\n",
    "print(\"AUC : %.4g\" % roc_auc_score(y_test,y_pred_xgb_lm))\n",
    "joblib.dump(grd_lm_xgb,'./xgboost_lr.pkl')\n",
    "fpr_xgb_lr_lm, tpr_xgb_lr_lm, _ = roc_curve(y_test, y_pred_xgb_lm)"
   ]
  },
  {
   "cell_type": "markdown",
   "id": "58112fce",
   "metadata": {},
   "source": [
    "## LR"
   ]
  },
  {
   "cell_type": "code",
   "execution_count": 24,
   "id": "bf6731b6",
   "metadata": {},
   "outputs": [
    {
     "name": "stdout",
     "output_type": "stream",
     "text": [
      "Accuracy :  0.5517\n",
      "AUC :  0.6098658721177713\n",
      "CPU times: user 4.73 s, sys: 1.5 s, total: 6.23 s\n",
      "Wall time: 1.46 s\n"
     ]
    }
   ],
   "source": [
    "%%time\n",
    "## 2022.1.7.特征构建拼接 \n",
    "# 原始LR\n",
    "####逻辑回归\n",
    "log = LogisticRegression(solver='lbfgs',max_iter=1000) \n",
    "log.fit(X_train,y_train)  # fitting the data\n",
    "y_pred_test1 = log.predict_proba(X_test)[:,1]\n",
    "y_pred1 = log.predict(X_test)\n",
    "print(\"Accuracy : \" , accuracy_score(y_test,y_pred1))\n",
    "print(\"AUC : \" , roc_auc_score(y_test,y_pred_test1))\n",
    "# joblib.dump(log,'./lr.pkl')\n",
    "# fpr_logistic_lm, tpr_logistic_lm, _ = roc_curve(y_test, y_pred_test1)"
   ]
  },
  {
   "cell_type": "markdown",
   "id": "a38a710a",
   "metadata": {},
   "source": [
    "## XGB特征组合+原来的数据 + LR"
   ]
  },
  {
   "cell_type": "code",
   "execution_count": 25,
   "id": "e397c145",
   "metadata": {},
   "outputs": [
    {
     "name": "stdout",
     "output_type": "stream",
     "text": [
      "AUC : 0.609865872518091\n",
      "CPU times: user 38.9 s, sys: 15 s, total: 53.8 s\n",
      "Wall time: 22.6 s\n"
     ]
    }
   ],
   "source": [
    "%%time\n",
    "#2021.1.7 afternoon\n",
    "from scipy.sparse import hstack\n",
    "grd_enc = OneHotEncoder(categories='auto')\n",
    "grd_enc.fit(xgb.apply(X_train))\n",
    "# 使用OneHot编码作为特征，训练LR\n",
    "XGB_LR = LogisticRegression(solver='lbfgs', max_iter=1000)\n",
    "X_train_ext = hstack([grd_enc.transform(xgb.apply(X_train)), X_train])\n",
    "X_test_ext = hstack([grd_enc.transform(xgb.apply(X_test)), X_test])\n",
    "XGB_LR.fit(X_train_ext, y_train)\n",
    " \n",
    "y_pred_xgb_originalfeature_lm =XGB_LR.predict_proba(X_test_ext)[:, 1]\n",
    "fpr_xgb_originalfeature_lm, tpr_xgb_originalfeature_lm, _ = roc_curve(y_test, y_pred_xgb_originalfeature_lm)\n",
    "print(\"AUC :\" , roc_auc_score(y_test, y_pred_xgb_originalfeature_lm))"
   ]
  },
  {
   "cell_type": "code",
   "execution_count": 26,
   "id": "5c97a893",
   "metadata": {},
   "outputs": [
    {
     "data": {
      "text/plain": [
       "(400000, 110311)"
      ]
     },
     "execution_count": 26,
     "metadata": {},
     "output_type": "execute_result"
    }
   ],
   "source": [
    "X_train_ext.shape"
   ]
  },
  {
   "cell_type": "markdown",
   "id": "adf1352b",
   "metadata": {},
   "source": [
    "\n",
    "## GBDT\n"
   ]
  },
  {
   "cell_type": "code",
   "execution_count": 27,
   "id": "9e03f220",
   "metadata": {
    "ExecuteTime": {
     "end_time": "2021-10-28T17:43:42.927455Z",
     "start_time": "2021-10-28T17:38:58.693209Z"
    }
   },
   "outputs": [
    {
     "name": "stdout",
     "output_type": "stream",
     "text": [
      "Accuracy : 0.8905\n",
      "AUC : 0.9436\n",
      "CPU times: user 4min 40s, sys: 830 ms, total: 4min 41s\n",
      "Wall time: 4min 41s\n"
     ]
    }
   ],
   "source": [
    "%%time\n",
    "gbdt = GradientBoostingClassifier(n_estimators=100,max_depth=10)#\n",
    "gbdt.fit(X_train,y_train)\n",
    "gbdt_pred = gbdt.predict(X_test)\n",
    "gbdt_preprob = gbdt.predict_proba(X_test)[:,1]\n",
    "print(\"Accuracy : %.4g\" % accuracy_score(y_test,gbdt_pred))\n",
    "print(\"AUC : %.4g\" % roc_auc_score(y_test,gbdt_preprob))\n",
    "joblib.dump(gbdt,'./gbdt.pkl')\n",
    "fpr_gbdt_lm, tpr_gbdt_lm, _ = roc_curve(y_test, gbdt_preprob)"
   ]
  },
  {
   "cell_type": "markdown",
   "id": "f4607f5a",
   "metadata": {},
   "source": [
    "\n",
    "## GBDT+LR"
   ]
  },
  {
   "cell_type": "code",
   "execution_count": null,
   "id": "691c6fd4",
   "metadata": {},
   "outputs": [],
   "source": []
  },
  {
   "cell_type": "code",
   "execution_count": 28,
   "id": "48955e42",
   "metadata": {
    "ExecuteTime": {
     "end_time": "2021-10-28T17:45:16.028845Z",
     "start_time": "2021-10-28T17:43:42.928353Z"
    }
   },
   "outputs": [
    {
     "name": "stdout",
     "output_type": "stream",
     "text": [
      "CPU times: user 3min 7s, sys: 2min 9s, total: 5min 17s\n",
      "Wall time: 1min 35s\n"
     ]
    },
    {
     "data": {
      "text/plain": [
       "LogisticRegression(max_iter=1000)"
      ]
     },
     "execution_count": 28,
     "metadata": {},
     "output_type": "execute_result"
    }
   ],
   "source": [
    "%%time\n",
    "# 得到OneHot编码\n",
    "grd_enc = OneHotEncoder(categories='auto')\n",
    "grd_enc.fit(gbdt.apply(X_train)[:, :, 0])\n",
    "# 使用OneHot编码作为特征，训练LR\n",
    "grd_lm_gbdt = LogisticRegression(solver='lbfgs', max_iter=1000)\n",
    "grd_lm_gbdt.fit(grd_enc.transform(gbdt.apply(X_train)[:, :, 0]), y_train)"
   ]
  },
  {
   "cell_type": "code",
   "execution_count": 29,
   "id": "1dedfd67",
   "metadata": {
    "ExecuteTime": {
     "end_time": "2021-10-28T17:45:19.182487Z",
     "start_time": "2021-10-28T17:45:16.030453Z"
    }
   },
   "outputs": [
    {
     "name": "stdout",
     "output_type": "stream",
     "text": [
      "Accuracy : 0.88\n",
      "AUC : 0.9319\n"
     ]
    }
   ],
   "source": [
    "# 使用gbdt+LR进行预测\n",
    "y_pred_gbdt_lm = grd_lm_gbdt.predict_proba(grd_enc.transform(gbdt.apply(X_test)[:, :, 0]))[:, 1]\n",
    "y_pred_gbdt_lr = grd_lm_gbdt.predict(grd_enc.transform(gbdt.apply(X_test)[:, :, 0]))\n",
    "print(\"Accuracy : %.4g\" % accuracy_score(y_test,y_pred_gbdt_lr))\n",
    "print(\"AUC : %.4g\" % roc_auc_score(y_test,y_pred_gbdt_lm))\n",
    "## 画图用\n",
    "joblib.dump(grd_lm_gbdt,'./gbdt_lr.pkl')\n",
    "fpr_gbdt_lr_lm, tpr_gbdt_lr_lm, _ = roc_curve(y_test, y_pred_gbdt_lm)"
   ]
  },
  {
   "cell_type": "code",
   "execution_count": 30,
   "id": "5e35e320",
   "metadata": {},
   "outputs": [],
   "source": [
    "from sklearn.preprocessing import StandardScaler"
   ]
  },
  {
   "cell_type": "markdown",
   "id": "b7b60c98",
   "metadata": {},
   "source": [
    "## GBDT特征组合 + 原始数据拼接 + LR"
   ]
  },
  {
   "cell_type": "code",
   "execution_count": 31,
   "id": "39c08ea2",
   "metadata": {},
   "outputs": [
    {
     "name": "stdout",
     "output_type": "stream",
     "text": [
      "AUC : 0.609865872518091\n",
      "CPU times: user 29.3 s, sys: 13.9 s, total: 43.1 s\n",
      "Wall time: 23.5 s\n"
     ]
    }
   ],
   "source": [
    "%%time\n",
    "from sklearn.preprocessing import StandardScaler\n",
    "#2021.1.7 afternoon\n",
    "from scipy.sparse import hstack\n",
    "grd_enc = OneHotEncoder(categories='auto')\n",
    "grd_enc.fit(gbdt.apply(X_train)[:, :, 0])\n",
    "# 使用OneHot编码作为特征，训练LR\n",
    "GBDT_LR = LogisticRegression(solver='lbfgs', max_iter=1000)\n",
    "X_train_GBDT = hstack([grd_enc.transform(gbdt.apply(X_train)[:, :, 0]), X_train])\n",
    "X_test_GBDT = hstack([grd_enc.transform(gbdt.apply(X_test)[:, :, 0]), X_test])\n",
    "GBDT_LR.fit(X_train_ext, y_train)\n",
    " \n",
    "y_pred_xgb_originalfeature_lm =GBDT_LR.predict_proba(X_test_ext)[:, 1]\n",
    "fpr_xgb_originalfeature_lm, tpr_xgb_originalfeature_lm, _ = roc_curve(y_test, y_pred_xgb_originalfeature_lm)\n",
    "print(\"AUC :\" , roc_auc_score(y_test, y_pred_xgb_originalfeature_lm))"
   ]
  },
  {
   "cell_type": "code",
   "execution_count": 32,
   "id": "bfda5d38",
   "metadata": {},
   "outputs": [
    {
     "data": {
      "text/plain": [
       "(400000, 58672)"
      ]
     },
     "execution_count": 32,
     "metadata": {},
     "output_type": "execute_result"
    }
   ],
   "source": [
    "X_train_GBDT.shape"
   ]
  },
  {
   "cell_type": "markdown",
   "id": "555866cd",
   "metadata": {},
   "source": [
    "为什么GBDT特征加上原始数据拼接后过一个LR的效果很差很差，就相当于是LR。GBDT（或者其他树模型XGBOOST，LightGBM）特征组合后加上LR才是好的，接近甚至是超越原来的模型。\n",
    "因为单纯的拼接后，原来的数据值比重太大了，完全吧叶子的0,1编码给盖过了，所以拼接上去还是和原来的数据直接过一次LR是毫无差异的。\n",
    "\n",
    "做一次归一化试试，是原始数据的归一化后和GBDT的特征拼接，然后再过一次GBDT。"
   ]
  },
  {
   "cell_type": "markdown",
   "id": "eebafb99",
   "metadata": {},
   "source": [
    "###  做一次特征归一化"
   ]
  },
  {
   "cell_type": "code",
   "execution_count": 33,
   "id": "699eb50b",
   "metadata": {},
   "outputs": [
    {
     "name": "stdout",
     "output_type": "stream",
     "text": [
      "AUC : 0.609865872518091\n",
      "CPU times: user 29 s, sys: 14.1 s, total: 43.2 s\n",
      "Wall time: 23.2 s\n"
     ]
    }
   ],
   "source": [
    "%%time\n",
    "from sklearn.preprocessing import StandardScaler\n",
    "#2021.1.7 afternoon\n",
    "from scipy.sparse import hstack\n",
    "grd_enc = OneHotEncoder()\n",
    "grd_enc.fit(gbdt.apply(X_train)[:, :, 0])\n",
    "# 使用OneHot编码作为特征，训练LR\n",
    "GBDT_LR = LogisticRegression(solver='lbfgs', max_iter=1000)\n",
    "X_train_GBDT = hstack([grd_enc.transform(gbdt.apply(X_train)[:, :, 0]), StandardScaler().fit_transform(X_train)])\n",
    "X_test_GBDT = hstack([grd_enc.transform(gbdt.apply(X_test)[:, :, 0]), StandardScaler().fit_transform(X_test)])\n",
    "GBDT_LR.fit(X_train_ext, y_train)\n",
    " \n",
    "y_pred_xgb_originalfeature_lm =GBDT_LR.predict_proba(X_test_ext)[:, 1]\n",
    "fpr_xgb_originalfeature_lm, tpr_xgb_originalfeature_lm, _ = roc_curve(y_test, y_pred_xgb_originalfeature_lm)\n",
    "print(\"AUC :\" , roc_auc_score(y_test, y_pred_xgb_originalfeature_lm))"
   ]
  },
  {
   "cell_type": "markdown",
   "id": "dd643469",
   "metadata": {},
   "source": [
    "## 画图"
   ]
  },
  {
   "cell_type": "code",
   "execution_count": 49,
   "id": "4c11baeb",
   "metadata": {
    "ExecuteTime": {
     "end_time": "2021-10-29T06:36:35.710299Z",
     "start_time": "2021-10-29T06:36:34.809205Z"
    }
   },
   "outputs": [
    {
     "data": {
      "image/png": "[encoded data removed]",
      "text/plain": [
       "<Figure size 432x288 with 1 Axes>"
      ]
     },
     "metadata": {
      "needs_background": "light"
     },
     "output_type": "display_data"
    },
    {
     "data": {
      "image/png": "[encoded data removed]",
      "text/plain": [
       "<Figure size 432x288 with 1 Axes>"
      ]
     },
     "metadata": {
      "needs_background": "light"
     },
     "output_type": "display_data"
    }
   ],
   "source": [
    "from turtle import color\n",
    "import matplotlib.pyplot as plt\n",
    "import matplotlib.pyplot as plt\n",
    "plt.rcParams['font.sans-serif'] = ['Arial Unicode MS']\n",
    "\n",
    "\n",
    "plt.figure(1)\n",
    "plt.plot([0, 1], [0, 1], 'k--')\n",
    "\n",
    "# plt.plot(fpr_logistic_lm, tpr_logistic_lm, label='Logistic')  #\n",
    "\n",
    "plt.plot(fpr_xgb_lm, tpr_xgb_lm, label='SVD+Xgboost+Logistic')  #\n",
    "# plt.plot(fpr_xgb_lr_lm, tpr_xgb_lr_lm, label='GBDT')  #\n",
    "\n",
    "plt.plot(fpr_gbdt_lm, tpr_gbdt_lm, label='Xgboost+Logistic') #改了\n",
    "plt.plot(fpr_gbdt_lr_lm, tpr_gbdt_lr_lm, label='Xgboost') #\n",
    "\n",
    "# plt.plot(fpr_lightgbm_lm, tpr_lightgbm_lm, label='LightGBM+Logistic') #\n",
    "# plt.plot(fpr_lightgbm_lr_lm, tpr_lightgbm_lr_lm, label='LightGBM') #\n",
    "\n",
    "plt.xlabel('FPR')\n",
    "plt.ylabel('TPR')\n",
    "plt.title('ROC curve')\n",
    "plt.legend(loc='best')\n",
    "\n",
    "plt.savefig('9_22_source_data_roc.jpg', dpi=300)\n",
    "plt.show()\n",
    "\n",
    "\n",
    "# 将左上角放大显示\n",
    "plt.figure(2)\n",
    "plt.xlim(0, 0.3)\n",
    "plt.ylim(0.8, 1)\n",
    "plt.plot([0, 1], [0, 1], 'k--')\n",
    "\n",
    "# plt.plot(fpr_logistic_lm, tpr_logistic_lm, label='Logistic')  #\n",
    "\n",
    "plt.plot(fpr_xgb_lm, tpr_xgb_lm, label='SVD+Xgboost+Logistic',color='k')  #\n",
    "# plt.plot(fpr_xgb_lr_lm, tpr_xgb_lr_lm, label='GBDT')  #\n",
    "\n",
    "plt.plot(fpr_gbdt_lm, tpr_gbdt_lm, label='Xgboost+Logistic',color='r')  #\n",
    "plt.plot(fpr_gbdt_lr_lm, tpr_gbdt_lr_lm, label='Xgboost')  #\n",
    "\n",
    "# plt.plot(fpr_lightgbm_lm, tpr_lightgbm_lm, label='LightGBM+Logistic')  #\n",
    "# plt.plot(fpr_lightgbm_lr_lm, tpr_lightgbm_lr_lm, label='LightGBM') #\n",
    "\n",
    "plt.xlabel('FPR')\n",
    "plt.ylabel('TPR')\n",
    "plt.title('ROC curve')\n",
    "plt.legend(loc='best')\n",
    "\n",
    "plt.savefig('9_23_soure_data_roc_part.jpg', dpi=300)\n",
    "plt.show()\n",
    "\n"
   ]
  },
  {
   "cell_type": "code",
   "execution_count": null,
   "id": "828aefa1",
   "metadata": {},
   "outputs": [],
   "source": []
  },
  {
   "cell_type": "code",
   "execution_count": null,
   "id": "da1488f8",
   "metadata": {},
   "outputs": [],
   "source": []
  },
  {
   "cell_type": "code",
   "execution_count": null,
   "id": "919a9c6a",
   "metadata": {},
   "outputs": [],
   "source": []
  }
 ],
 "metadata": {
  "kernelspec": {
   "display_name": "Python 3.7.0 ('data_anaylize')",
   "language": "python",
   "name": "python3"
  },
  "language_info": {
   "codemirror_mode": {
    "name": "ipython",
    "version": 3
   },
   "file_extension": ".py",
   "mimetype": "text/x-python",
   "name": "python",
   "nbconvert_exporter": "python",
   "pygments_lexer": "ipython3",
   "version": "3.7.0"
  },
  "toc": {
   "base_numbering": 1,
   "nav_menu": {},
   "number_sections": true,
   "sideBar": true,
   "skip_h1_title": false,
   "title_cell": "Table of Contents",
   "title_sidebar": "Contents",
   "toc_cell": false,
   "toc_position": {},
   "toc_section_display": true,
   "toc_window_display": false
  },
  "varInspector": {
   "cols": {
    "lenName": 16,
    "lenType": 16,
    "lenVar": 40
   },
   "kernels_config": {
    "python": {
     "delete_cmd_postfix": "",
     "delete_cmd_prefix": "del ",
     "library": "var_list.py",
     "varRefreshCmd": "print(var_dic_list())"
    },
    "r": {
     "delete_cmd_postfix": ") ",
     "delete_cmd_prefix": "rm(",
     "library": "var_list.r",
     "varRefreshCmd": "cat(var_dic_list()) "
    }
   },
   "types_to_exclude": [
    "module",
    "function",
    "builtin_function_or_method",
    "instance",
    "_Feature"
   ],
   "window_display": false
  },
  "vscode": {
   "interpreter": {
    "hash": "db3106fb355441ef80fba4ddc21337fec3bcbb27b64bd58d677eb371c4420e3d"
   }
  }
 },
 "nbformat": 4,
 "nbformat_minor": 5
}
